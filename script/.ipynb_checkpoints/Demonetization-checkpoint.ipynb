{
 "cells": [
  {
   "cell_type": "code",
   "execution_count": 9,
   "metadata": {
    "collapsed": false
   },
   "outputs": [],
   "source": [
    "# download.file(\"http://cran.cnr.berkeley.edu/src/contrib/Archive/Rstem/Rstem_0.4-1.tar.gz\", \"Rstem_0.4-1.tar.gz\")\n",
    "# install.packages(\"Rstem_0.4-1.tar.gz\", repos=NULL, type=\"source\")\n",
    "# install.packages(\"Rstem\", repos = \"http://www.omegahat.org/R\")\n",
    "# download.file(\"http://cran.r-project.org/src/contrib/Archive/sentiment/sentiment_0.2.tar.gz\", \"sentiment.tar.gz\")\n",
    "# install.packages(\"sentiment.tar.gz\", repos=NULL, type=\"source\")\n",
    "\n",
    "library(tm)\n",
    "library(plyr)\n",
    "library(ggplot2)\n",
    "library(grid)\n",
    "library(sentiment)\n",
    "library(Rgraphviz)"
   ]
  },
  {
   "cell_type": "code",
   "execution_count": 4,
   "metadata": {
    "collapsed": true
   },
   "outputs": [],
   "source": [
    "# CSV file to the workspace read for further analysis\n",
    "df <- read.csv(\"../input/demonetization-tweets.csv\", stringsAsFactors = FALSE)"
   ]
  },
  {
   "cell_type": "code",
   "execution_count": 6,
   "metadata": {
    "collapsed": false
   },
   "outputs": [
    {
     "data": {},
     "metadata": {},
     "output_type": "display_data"
    },
    {
     "data": {
      "image/png": "[encoded data removed]",
      "text/plain": [
       "plot without title"
      ]
     },
     "metadata": {},
     "output_type": "display_data"
    }
   ],
   "source": [
    "#classify emotion\n",
    "class_emo = classify_emotion(df_text, algorithm=\"bayes\", prior=1.0)\n",
    "#get emotion best fit\n",
    "emotion = class_emo[,7]\n",
    "# substitute NA's by \"unknown\"\n",
    "emotion[is.na(emotion)] = \"unknown\"\n",
    "\n",
    "# classify polarity\n",
    "class_pol = classify_polarity(df_text, algorithm=\"bayes\")\n",
    "\n",
    "# get polarity best fit\n",
    "polarity = class_pol[,4]\n",
    "\n",
    "# data frame with results\n",
    "sent_df = data.frame(text=df_text, emotion=emotion, polarity=polarity, stringsAsFactors=FALSE)\n",
    "\n",
    "# sort data frame\n",
    "sent_df = within(sent_df, emotion <- factor(emotion, levels=names(sort(table(emotion), decreasing=TRUE))))\n",
    "\n",
    "# plot distribution of emotions\n",
    "ggplot(sent_df, aes(x=emotion)) +\n",
    "  geom_bar(aes(y=..count.., fill=emotion)) +\n",
    "  scale_fill_brewer(palette=\"Dark2\") +\n",
    "  labs(x=\"emotion categories\", y=\"number of Feedback\", \n",
    "       title = \"classification by emotion\",\n",
    "       plot.title = element_text(size=12))"
   ]
  },
  {
   "cell_type": "code",
   "execution_count": 10,
   "metadata": {
    "collapsed": false
   },
   "outputs": [
    {
     "data": {},
     "metadata": {},
     "output_type": "display_data"
    },
    {
     "data": {
      "image/png": "[encoded data removed]",
      "text/plain": [
       "plot without title"
      ]
     },
     "metadata": {},
     "output_type": "display_data"
    }
   ],
   "source": [
    "# plot distribution of emotions\n",
    "ggplot(sent_df, aes(x=polarity)) +\n",
    "  geom_bar(aes(y=..count.., fill=polarity)) +\n",
    "  scale_fill_brewer(palette=\"RdGy\") +\n",
    "  labs(x=\"emotion categories\", y=\"number of Feedback\", \n",
    "       title = \"classification by emotion\",\n",
    "       plot.title = element_text(size=12))"
   ]
  },
  {
   "cell_type": "code",
   "execution_count": 11,
   "metadata": {
    "collapsed": false
   },
   "outputs": [
    {
     "ename": "ERROR",
     "evalue": "Error in gsub(sprintf(\"(*UCP)\\\\b(%s)\\\\b\", paste(sort(words, decreasing = TRUE), : invalid regular expression '(*UCP)\\b(yourselves|yourself|yours|your|you've|you're|you'll|you'd|you|wouldn't|would|won't|with|why's|why|whom|who's|who|while|which|where's|where|when's|when|what's|what|weren't|were|we've|we're|we'll|we'd|we|wasn't|was|very|up|until|under|too|to|through|those|this|they've|they're|they'll|they'd|they|these|there's|there|then|themselves|them|theirs|their|the|that's|that|than|such|some|so|shouldn't|should|she's|she'll|she'd|she|shan't|same|own|over|out|ourselves|ours|our|ought|other|or|only|once|on|off|of|not|nor|no|myself|my|mustn't|most|more|me|let's|itself|its|it's|it|isn't|is|into|in|if|i've|i'm|i'll|i'd|i|how's|how|his|himself|him|herself|hers|here's|here|her|he's|he'll|he'd|he|having|haven't|have|hasn't|has|hadn't|had|further|from|for|few|each|during|down|don't|doing|doesn't|does|do|didn't|did|couldn't|could|cannot|can't|by|but|both|between|below|being|before|been|because|be|at|as|aren't|are|any|and|an|am|all|against|again|after|above|about|a)\\b'\n",
     "output_type": "error",
     "traceback": [
      "Error in gsub(sprintf(\"(*UCP)\\\\b(%s)\\\\b\", paste(sort(words, decreasing = TRUE), : invalid regular expression '(*UCP)\\b(yourselves|yourself|yours|your|you've|you're|you'll|you'd|you|wouldn't|would|won't|with|why's|why|whom|who's|who|while|which|where's|where|when's|when|what's|what|weren't|were|we've|we're|we'll|we'd|we|wasn't|was|very|up|until|under|too|to|through|those|this|they've|they're|they'll|they'd|they|these|there's|there|then|themselves|them|theirs|their|the|that's|that|than|such|some|so|shouldn't|should|she's|she'll|she'd|she|shan't|same|own|over|out|ourselves|ours|our|ought|other|or|only|once|on|off|of|not|nor|no|myself|my|mustn't|most|more|me|let's|itself|its|it's|it|isn't|is|into|in|if|i've|i'm|i'll|i'd|i|how's|how|his|himself|him|herself|hers|here's|here|her|he's|he'll|he'd|he|having|haven't|have|hasn't|has|hadn't|had|further|from|for|few|each|during|down|don't|doing|doesn't|does|do|didn't|did|couldn't|could|cannot|can't|by|but|both|between|below|being|before|been|because|be|at|as|aren't|are|any|and|an|am|all|against|again|after|above|about|a)\\b'\nTraceback:\n",
      "1. removeWords(emo.docs, stopwords(\"english\"))",
      "2. removeWords.character(emo.docs, stopwords(\"english\"))",
      "3. gsub(sprintf(\"(*UCP)\\\\b(%s)\\\\b\", paste(sort(words, decreasing = TRUE), \n .     collapse = \"|\")), \"\", x, perl = TRUE)"
     ]
    }
   ],
   "source": [
    "# separating text by emotion\n",
    "emos = levels(factor(sent_df$emotion))\n",
    "nemo = length(emos)\n",
    "emo.docs = rep(\"\", nemo)\n",
    "for (i in 1:nemo)\n",
    "{\n",
    "  tmp = df$text[emotion == emos[i]]\n",
    "  emo.docs[i] = paste(tmp, collapse=\" \")\n",
    "}\n",
    "\n",
    "# remove stopwords\n",
    "emo.docs = removeWords(emo.docs, stopwords(\"english\"))\n",
    "# create corpus\n",
    "corpus = Corpus(VectorSource(emo.docs))\n",
    "tdm = TermDocumentMatrix(corpus)\n",
    "tdm = as.matrix(tdm)\n",
    "colnames(tdm) = emos\n",
    "\n",
    "# comparison word cloud\n",
    "comparison.cloud(tdm, colors = brewer.pal(nemo, \"Dark2\"),\n",
    "                 scale = c(3,.5), random.order = FALSE, title.size = 1.5)"
   ]
  },
  {
   "cell_type": "code",
   "execution_count": null,
   "metadata": {
    "collapsed": true
   },
   "outputs": [],
   "source": []
  }
 ],
 "metadata": {
  "anaconda-cloud": {},
  "kernelspec": {
   "display_name": "R",
   "language": "R",
   "name": "ir"
  },
  "language_info": {
   "codemirror_mode": "r",
   "file_extension": ".r",
   "mimetype": "text/x-r-source",
   "name": "R",
   "pygments_lexer": "r",
   "version": "3.3.1"
  }
 },
 "nbformat": 4,
 "nbformat_minor": 1
}
